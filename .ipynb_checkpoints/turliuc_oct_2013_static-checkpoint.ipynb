{
 "metadata": {
  "name": ""
 },
 "nbformat": 3,
 "nbformat_minor": 0,
 "worksheets": [
  {
   "cells": [
    {
     "cell_type": "code",
     "collapsed": false,
     "input": [
      "# put here all the imports, styles etc.\n",
      "from IPython.display import Image\n",
      "from IPython.display import HTML\n",
      "\n",
      "#HTML(\"\"\"\n",
      "#<style>\n",
      "#.div.cell{\n",
      "#    font-size: 100%;\n",
      "#}\n",
      "#.rendered_html{\n",
      "#    font-size: 150%;\n",
      "#}\n",
      "#</style>\n",
      "#\"\"\")\n"
     ],
     "language": "python",
     "metadata": {
      "slideshow": {
       "slide_type": "skip"
      }
     },
     "outputs": [],
     "prompt_number": 8
    },
    {
     "cell_type": "markdown",
     "metadata": {
      "slideshow": {
       "slide_type": "slide"
      }
     },
     "source": [
      "<h1 align=\"center\">Probabilistic Logic - A Biased Review</h1>\n",
      "<h2 align=\"center\">C\u0103lin-Rare\u0219 Turliuc</h2>\n",
      "<h3 align=\"center\">01 November 2013</h3>\n",
      "<center><img src=\"files/pix/imperial_logo.jpg\" width=\"300\"></center>\n",
      "\n"
     ]
    },
    {
     "cell_type": "markdown",
     "metadata": {
      "slideshow": {
       "slide_type": "slide"
      }
     },
     "source": [
      "<h1 align=\"center\">Summary</h1>\n",
      "\n",
      "1. Short Bio\n",
      "2. (General) Introduction and Motivation\n",
      "3. My Research (Probabilistic Abduction)\n",
      "4. Demo\n",
      "5. Future work, Conclusions\n"
     ]
    },
    {
     "cell_type": "markdown",
     "metadata": {
      "slideshow": {
       "slide_type": "slide"
      }
     },
     "source": [
      "<h1 align=\"center\">Short Bio</h1>\n",
      "\n",
      "* First Name: *Rare\u0219* (rah-rehsh)\n",
      "* Msc 2011, PhD (started April 2012, s: A. Russo, K. Broda)\n",
      "* <img width=\"100\" src=\"files/pix/iccsw_logo.png\"> steering committee (also 2012)\n",
      "* <img width=\"100\" src=\"files/pix/github_logo.png\"> [raresct](https://github.com/raresct)\n"
     ]
    },
    {
     "cell_type": "markdown",
     "metadata": {
      "slideshow": {
       "slide_type": "subslide"
      }
     },
     "source": [
      "<h2 align=center>Interests</h2>\n",
      "<h3>Computing</h3>\n",
      "\n",
      "* machine learning\n",
      "* probabilistic logic (inference, learning)\n",
      "* applications\n",
      "\n",
      "<h3>Non-Computing</h3>\n",
      "\n",
      "* history of religions \n",
      "* fantastic novels\n",
      "* music (esp. rock & metal)\n",
      "* starcraft II\n",
      "* tennis, ping pong, pool & sauna"
     ]
    },
    {
     "cell_type": "markdown",
     "metadata": {
      "slideshow": {
       "slide_type": "slide"
      }
     },
     "source": [
      "<h1 align=\"center\">Introduction</h1>\n",
      "\n",
      "<h3>Big Data</h3>\n",
      "<blockquote>\n",
      "    <p>To find a smaller needle in the haystack, </p>\n",
      "    <p>you need a bigger haystack.</p>\n",
      "</blockquote>\n"
     ]
    },
    {
     "cell_type": "markdown",
     "metadata": {
      "slideshow": {
       "slide_type": "subslide"
      }
     },
     "source": [
      "<h1 align=\"center\">Introduction (2)</h1>\n",
      "\n",
      "<h3>State of the Art: Statistical Machine Learning (ML)</h3>\n",
      "\n",
      "<center><object width=\"300\" data=\"files/pix/ml1.svg\" type=\"image/svg+xml\">\n",
      "    <img src=\"files/pix/ml1.png\" >\n",
      "</object></center>\n",
      "\n",
      "Pros\n",
      "\n",
      "* it works (+/- theoretical ML)\n",
      "* it scales (only some algorithms for now)\n",
      "\n",
      "Cons\n",
      "\n",
      "<img width=\"300\" src=\"files/pix/everywhere_meme.jpg\">\n",
      "\n",
      "\n",
      "<center><object width=\"300\" data=\"files/pix/sub.svg\" type=\"image/svg+xml\">\n",
      "    <img src=\"files/pix/sub.png\" >\n",
      "</object></center>"
     ]
    },
    {
     "cell_type": "markdown",
     "metadata": {
      "slideshow": {
       "slide_type": "subslide"
      }
     },
     "source": [
      "<h1 align=\"center\">Introduction (3)</h1>\n",
      "\n",
      "<h3> States of the Art of the 60's: Logic </h3> \n",
      "\n",
      "<center><object width=\"300\" data=\"files/pix/ml2.svg\" type=\"image/svg+xml\">\n",
      "    <img src=\"files/pix/ml2.png\" >\n",
      "</object></center>\n",
      "\n",
      "Pros\n",
      "\n",
      "* white box (almost)\n",
      "* it should work (rules, proofs, soundness, completeness)\n",
      "* it should scale (only one operator: resolution, most proofs are tree-like)\n",
      "\n",
      "Cons\n",
      "\n",
      "* **should**\n",
      "* no numbers\n"
     ]
    },
    {
     "cell_type": "markdown",
     "metadata": {
      "slideshow": {
       "slide_type": "slide"
      }
     },
     "source": [
      "<h1 align=\"center\">Motivation</h1>\n",
      "\n",
      "<h3>Why did statistics and logic diverge?</h3>\n",
      "Hint: Quant\\Qual\n",
      "\n",
      "<h3>Were they ever compared?</h3>\n",
      "Spoiler: Yes!"
     ]
    },
    {
     "cell_type": "markdown",
     "metadata": {
      "slideshow": {
       "slide_type": "subslide"
      }
     },
     "source": [
      "<h1 align=\"center\">Motivation (2)</h1>\n",
      "\n",
      "<center><img src=\"files/pix/snoop_quote.jpg\" ></center>"
     ]
    },
    {
     "cell_type": "markdown",
     "metadata": {
      "slideshow": {
       "slide_type": "subslide"
      }
     },
     "source": [
      "<h1 align=\"center\">Motivation (3)</h1>\n",
      "\n",
      "<center><iframe src=\"files/pix/Pearl87ECF.pdf\" width=700 height=350></iframe></center>"
     ]
    },
    {
     "cell_type": "markdown",
     "metadata": {
      "slideshow": {
       "slide_type": "subslide"
      }
     },
     "source": [
      "<h1 align=\"center\">Motivation (4)</h1>\n",
      "\n",
      "<h3>Best of Both Worlds? How?</h3>\n",
      "\n",
      "<center><object width=\"300\" data=\"files/pix/ml3.svg\" type=\"image/svg+xml\">\n",
      "    <img width=\"300\" src=\"files/pix/ml3.png\" >\n",
      "</object></center>\n"
     ]
    },
    {
     "cell_type": "markdown",
     "metadata": {
      "slideshow": {
       "slide_type": "subslide"
      }
     },
     "source": [
      "<h1 align=\"center\">Motivation (5)</h1>\n",
      "\n",
      "<h3>Best of Both Worlds? How?</h3>\n",
      "\n",
      "<center><object width=\"300\" data=\"files/pix/ml4.svg\" type=\"image/svg+xml\">\n",
      "    <img width=\"300\" src=\"files/pix/ml4.png\" >\n",
      "</object></center>"
     ]
    },
    {
     "cell_type": "markdown",
     "metadata": {
      "slideshow": {
       "slide_type": "subslide"
      }
     },
     "source": [
      "<h1 align=\"center\">Motivation (6)</h1>\n",
      "\n",
      "<h3>Best of Both Worlds? How?</h3>\n",
      "\n",
      "<center><object width=\"300\" data=\"files/pix/ml5.svg\" type=\"image/svg+xml\">\n",
      "    <img width=\"300\" src=\"files/pix/ml5.png\" >\n",
      "</object></center>"
     ]
    },
    {
     "cell_type": "markdown",
     "metadata": {
      "slideshow": {
       "slide_type": "slide"
      }
     },
     "source": [
      "<h1 align=\"center\">Probabilistic Abduction</h1>\n",
      "\n",
      "<center><img src=\"files/pix/doge_meme.jpg\" ></center>\n",
      "\n",
      "$$ grass_is_wet \\leftarrow rained $$\n",
      "$$ grass_is_wet \\leftarrow sprinkler_on $$\n",
      "$$ shoes_wet \\leftarrow grass_wet $$\n",
      "\n",
      "todo: \n",
      "sprinkler example\n",
      "probabilistic interpretation\n",
      "open/closed world distinction\n",
      "integrity constraints as evidence (not discussed here)\n",
      "parameter learning (not discussed here)\n",
      "structure learning (to do)"
     ]
    },
    {
     "cell_type": "markdown",
     "metadata": {
      "slideshow": {
       "slide_type": "slide"
      }
     },
     "source": [
      "<h1 align=\"center\"> Demo </h1>\n",
      "\n",
      "<h3 align=\"center\">One line music recommender system!</h3>"
     ]
    },
    {
     "cell_type": "markdown",
     "metadata": {
      "slideshow": {
       "slide_type": "slide"
      }
     },
     "source": [
      "<h1 align=\"center\">Future Work and Conclusions</h1>\n",
      "\n",
      "done\n",
      "\n",
      "probabilistic-logical inference + constraints\n",
      "applied in a biological gene network model\n",
      "hopefully interesting demo\n",
      "\n",
      "todo\n",
      "\n",
      "/> applications, /> benchmarks\n",
      "scale inference and learning\n",
      "parameter learning demo\n",
      "better parameter learning\n",
      "structure learning\n",
      "\n",
      "<h2 align=\"center\">Thank you!</h2>\n",
      "\n",
      "qr code and slides on github"
     ]
    }
   ],
   "metadata": {}
  }
 ]
}