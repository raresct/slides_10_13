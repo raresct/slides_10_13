{
 "metadata": {
  "name": ""
 },
 "nbformat": 3,
 "nbformat_minor": 0,
 "worksheets": [
  {
   "cells": [
    {
     "cell_type": "code",
     "collapsed": false,
     "input": [
      "# put here all the imports, styles etc.\n",
      "from IPython.display import Image, HTML, Latex\n",
      "import pandas as pd\n",
      "#HTML(\"\"\"\n",
      "#<style>\n",
      "#.div.cell{\n",
      "#    font-size: 100%;\n",
      "#}\n",
      "#.rendered_html{\n",
      "#    font-size: 150%;\n",
      "#}\n",
      "#</style>\n",
      "#\"\"\")\n"
     ],
     "language": "python",
     "metadata": {
      "slideshow": {
       "slide_type": "skip"
      }
     },
     "outputs": [],
     "prompt_number": 5
    },
    {
     "cell_type": "markdown",
     "metadata": {
      "slideshow": {
       "slide_type": "slide"
      }
     },
     "source": [
      "<h1 align=\"center\">Probabilistic Logic</h1>\n",
      "<h2 align=\"center\">A Biased Review</h2>\n",
      "<h2 align=\"center\">C\u0103lin-Rare\u0219 Turliuc</h2>\n",
      "<h3 align=\"center\">01 November 2013</h3>\n",
      "<center><img src=\"files/pix/imperial_logo.jpg\" width=\"300\"></center>\n",
      "\n"
     ]
    },
    {
     "cell_type": "markdown",
     "metadata": {
      "slideshow": {
       "slide_type": "slide"
      }
     },
     "source": [
      "<h1 align=\"center\">Summary</h1>\n",
      "\n",
      "1. Short Bio\n",
      "2. (General) Introduction and Motivation\n",
      "3. My Research (Probabilistic Abduction)\n",
      "4. Demo\n",
      "5. Future work, Conclusions\n"
     ]
    },
    {
     "cell_type": "markdown",
     "metadata": {
      "slideshow": {
       "slide_type": "slide"
      }
     },
     "source": [
      "<h1 align=\"center\">Short Bio</h1>\n",
      "\n",
      "<center><img src=\"files/pix/romania_ball.png\"></center>\n",
      "\n",
      "* First Name: *Rare\u0219* (rah-rehsh)\n",
      "* Msc 2011, PhD (started April 2012)\n",
      "* ICCSW steering committee (2012, 2013)\n",
      "\n",
      "<img width=\"70\" src=\"files/pix/github_logo.png\"> [raresct](https://github.com/raresct) "
     ]
    },
    {
     "cell_type": "markdown",
     "metadata": {
      "slideshow": {
       "slide_type": "subslide"
      }
     },
     "source": [
      "<h2 align=center>Interests</h2>\n",
      "<h3>Computing</h3>\n",
      "\n",
      "* machine learning\n",
      "* probabilistic logic (inference, learning)\n",
      "* applications\n",
      "\n"
     ]
    },
    {
     "cell_type": "markdown",
     "metadata": {
      "slideshow": {
       "slide_type": "subslide"
      }
     },
     "source": [
      "<h2 align=center>Interests (2)</h2>\n",
      "\n",
      "<h3>Non-Computing</h3>\n",
      "\n",
      "* history of religions \n",
      "* fantastic novels\n",
      "* music (esp. rock & metal)\n",
      "* starcraft II\n",
      "* tennis, ping pong, swimming & sauna"
     ]
    },
    {
     "cell_type": "markdown",
     "metadata": {
      "slideshow": {
       "slide_type": "slide"
      }
     },
     "source": [
      "<h1 align=\"center\">Introduction</h1>\n",
      "\n",
      "<h3>Big Data</h3>\n",
      "<blockquote>\n",
      "    To find a small needle \n",
      "    in a haystack,\n",
      "    you need a big haystack.\n",
      "</blockquote>\n"
     ]
    },
    {
     "cell_type": "markdown",
     "metadata": {
      "slideshow": {
       "slide_type": "subslide"
      }
     },
     "source": [
      "<h1 align=\"center\">Introduction (2)</h1>\n",
      "\n",
      "<h3>State of the Art : Statistical Machine Learning (ML)</h3>\n",
      "\n",
      "<center><object width=\"300\" data=\"files/pix/ml1.svg\" type=\"image/svg+xml\">\n",
      "    <img src=\"files/pix/ml1.png\" >\n",
      "</object></center>\n",
      "\n",
      "\n",
      "\n",
      "\n",
      "<center><object width=\"300\" data=\"files/pix/sub.svg\" type=\"image/svg+xml\">\n",
      "    <img src=\"files/pix/sub.png\" >\n",
      "</object></center>"
     ]
    },
    {
     "cell_type": "markdown",
     "metadata": {
      "slideshow": {
       "slide_type": "subslide"
      }
     },
     "source": [
      "Pros\n",
      "\n",
      "* it works (+/- theoretical ML)\n",
      "* it scales (only some algorithms for now)\n",
      "\n",
      "Cons\n",
      "\n",
      "<img width=\"350\" src=\"files/pix/everywhere_meme.jpg\">"
     ]
    },
    {
     "cell_type": "markdown",
     "metadata": {
      "slideshow": {
       "slide_type": "subslide"
      }
     },
     "source": [
      "<h1 align=\"center\">Introduction (3)</h1>\n",
      "\n",
      "<h3> State of the Art *of the 60's* : Logic </h3> \n",
      "\n",
      "<center><object width=\"300\" data=\"files/pix/ml2.svg\" type=\"image/svg+xml\">\n",
      "    <img src=\"files/pix/ml2.png\" >\n",
      "</object></center>\n",
      "\n",
      "\n"
     ]
    },
    {
     "cell_type": "markdown",
     "metadata": {
      "slideshow": {
       "slide_type": "subslide"
      }
     },
     "source": [
      "Pros\n",
      "\n",
      "* white box (almost)\n",
      "* it should work (soundness, completeness)\n",
      "* it should scale (1 op: resolution, tree proofs)\n",
      "\n",
      "Cons\n",
      "\n",
      "* **should**\n",
      "* no uncertainty"
     ]
    },
    {
     "cell_type": "markdown",
     "metadata": {
      "slideshow": {
       "slide_type": "slide"
      }
     },
     "source": [
      "<h1 align=\"center\">Motivation</h1>\n",
      "\n",
      "<h3>Why did statistics and logic diverge?</h3>\n",
      "Hint: Quant-Qual\n",
      "\n",
      "<h3>Were they ever compared?</h3>\n",
      "Spoiler: Yes!"
     ]
    },
    {
     "cell_type": "markdown",
     "metadata": {
      "slideshow": {
       "slide_type": "subslide"
      }
     },
     "source": [
      "<h1 align=\"center\">Motivation (2)</h1>\n",
      "\n",
      "<center><img src=\"files/pix/snoop_quote.jpg\" ></center>"
     ]
    },
    {
     "cell_type": "markdown",
     "metadata": {
      "slideshow": {
       "slide_type": "subslide"
      }
     },
     "source": [
      "<h1 align=\"center\">Motivation (3)</h1>\n",
      "\n",
      "<center><iframe src=\"files/pix/Pearl87ECF.pdf\" width=1200 height=500></iframe></center>"
     ]
    },
    {
     "cell_type": "markdown",
     "metadata": {
      "slideshow": {
       "slide_type": "subslide"
      }
     },
     "source": [
      "<h1 align=\"center\">Motivation (4)</h1>\n",
      "\n",
      "<h3>Best of Both Worlds? How?</h3>\n",
      "\n",
      "<center><object width=\"600\" data=\"files/pix/ml3.svg\" type=\"image/svg+xml\">\n",
      "    <img width=\"600\" src=\"files/pix/ml3.png\" >\n",
      "</object></center>\n"
     ]
    },
    {
     "cell_type": "markdown",
     "metadata": {
      "slideshow": {
       "slide_type": "subslide"
      }
     },
     "source": [
      "<h1 align=\"center\">Motivation (5)</h1>\n",
      "\n",
      "<h3>Best of Both Worlds? How?</h3>\n",
      "\n",
      "<center><object width=\"600\" data=\"files/pix/ml4.svg\" type=\"image/svg+xml\">\n",
      "    <img width=\"600\" src=\"files/pix/ml4.png\" >\n",
      "</object></center>"
     ]
    },
    {
     "cell_type": "markdown",
     "metadata": {
      "slideshow": {
       "slide_type": "subslide"
      }
     },
     "source": [
      "<h1 align=\"center\">Motivation (6)</h1>\n",
      "\n",
      "<h3>Best of Both Worlds? How?</h3>\n",
      "\n",
      "<center><object width=\"600\" data=\"files/pix/ml5.svg\" type=\"image/svg+xml\">\n",
      "    <img width=\"600\" src=\"files/pix/ml5.png\" >\n",
      "</object></center>"
     ]
    },
    {
     "cell_type": "markdown",
     "metadata": {
      "slideshow": {
       "slide_type": "slide"
      }
     },
     "source": [
      "<h1 align=\"center\">Probabilistic Abduction</h1>\n",
      "\n",
      "<center><img src=\"files/pix/doge_meme.jpg\" ></center>\n",
      "\n",
      "\n"
     ]
    },
    {
     "cell_type": "markdown",
     "metadata": {
      "slideshow": {
       "slide_type": "subslide"
      }
     },
     "source": [
      "<h1 align=\"center\">Prob. Abduction (2)</h1>\n",
      "\n",
      "$$ grass\\_is\\_wet \\leftarrow rained $$\n",
      "$$ grass\\_is\\_wet \\leftarrow sprinkler\\_on $$\n",
      "$$ shoes\\_wet \\leftarrow grass\\_wet $$"
     ]
    },
    {
     "cell_type": "markdown",
     "metadata": {
      "slideshow": {
       "slide_type": "subslide"
      }
     },
     "source": [
      "<h1 align=\"center\">Prob. Abduction (3)</h1>\n",
      "\n",
      "Query:\n",
      "$$ Q = \\lbrace shoes\\_wet \\rbrace$$\n",
      "\n",
      "Abducibles (in this case they are our solutions):\n",
      "$$rained$$\n",
      "$$sprinkler\\_on$$"
     ]
    },
    {
     "cell_type": "markdown",
     "metadata": {
      "slideshow": {
       "slide_type": "subslide"
      }
     },
     "source": [
      "Probability over abducibles: \n",
      "$$P(rained) = 0.6$$\n",
      "$$P(\\lnot rained) = 0.4 $$\n",
      "$$P(sprinkler\\_on) = 0.7$$\n",
      "$$P(\\lnot sprinkler\\_on) = 0.3 $$\n",
      "\n",
      "Truth value assignment to the abducibles\n",
      "\n",
      "= independent events."
     ]
    },
    {
     "cell_type": "code",
     "collapsed": false,
     "input": [
      "df = pd.read_csv('pix/sprinkler.csv', sep=\" \", quotechar='\"')\n",
      "df"
     ],
     "language": "python",
     "metadata": {
      "slideshow": {
       "slide_type": "subslide"
      }
     },
     "outputs": [
      {
       "html": [
        "<div style=\"max-height:1000px;max-width:1500px;overflow:auto;\">\n",
        "<table border=\"1\" class=\"dataframe\">\n",
        "  <thead>\n",
        "    <tr style=\"text-align: right;\">\n",
        "      <th></th>\n",
        "      <th>rained</th>\n",
        "      <th>sprinkler_on</th>\n",
        "      <th>P(rained, sprinkler_on)</th>\n",
        "    </tr>\n",
        "  </thead>\n",
        "  <tbody>\n",
        "    <tr>\n",
        "      <th>0</th>\n",
        "      <td> False</td>\n",
        "      <td> False</td>\n",
        "      <td> 0.12</td>\n",
        "    </tr>\n",
        "    <tr>\n",
        "      <th>1</th>\n",
        "      <td> False</td>\n",
        "      <td>  True</td>\n",
        "      <td> 0.28</td>\n",
        "    </tr>\n",
        "    <tr>\n",
        "      <th>2</th>\n",
        "      <td>  True</td>\n",
        "      <td> False</td>\n",
        "      <td> 0.18</td>\n",
        "    </tr>\n",
        "    <tr>\n",
        "      <th>3</th>\n",
        "      <td>  True</td>\n",
        "      <td>  True</td>\n",
        "      <td> 0.42</td>\n",
        "    </tr>\n",
        "  </tbody>\n",
        "</table>\n",
        "</div>"
       ],
       "metadata": {},
       "output_type": "pyout",
       "prompt_number": 15,
       "text": [
        "  rained sprinkler_on  P(rained, sprinkler_on)\n",
        "0  False        False                     0.12\n",
        "1  False         True                     0.28\n",
        "2   True        False                     0.18\n",
        "3   True         True                     0.42"
       ]
      }
     ],
     "prompt_number": 15
    },
    {
     "cell_type": "markdown",
     "metadata": {
      "slideshow": {
       "slide_type": "subslide"
      }
     },
     "source": [
      "<h1 align=\"center\">Prob. Abduction (4)</h1>\n",
      "\n",
      "<h3> Inference </h3>\n",
      "\n",
      "Need non-minimal solutions.\n",
      "\n",
      "Expres evidence as integrity constraints.\n",
      "(e.g. next slide)\n"
     ]
    },
    {
     "cell_type": "markdown",
     "metadata": {
      "slideshow": {
       "slide_type": "subslide"
      }
     },
     "source": [
      "$$ IC = \\lbrace$$\n",
      "$$ ic \\leftarrow sprinkler\\_on $$\n",
      "$$ \\rbrace $$\n",
      "(i.e. we observe that the sprinkler was off)"
     ]
    },
    {
     "cell_type": "markdown",
     "metadata": {
      "slideshow": {
       "slide_type": "subslide"
      }
     },
     "source": [
      "The goal is to compute:\n",
      "\n",
      "$$ P(Q  \\vert IC) $$\n",
      "\n",
      "In our case: \n",
      "$$ P(Q  \\vert IC) = \\frac{P(Q, IC)}{P(IC)} = \\frac{0.18}{0.18+0.12}=0.6 $$"
     ]
    },
    {
     "cell_type": "markdown",
     "metadata": {
      "slideshow": {
       "slide_type": "subslide"
      }
     },
     "source": [
      "<h1 align=\"center\">Prob. Abduction (5)</h1>\n",
      "\n",
      "<h3> Parameter learning </h3>\n",
      "Observe queries:\n",
      "$$Q_{1}, \\dots , Q_{n}$$\n",
      "\n",
      "Question: Prob. of the abducibles that maximizes the joint prob. of the queries.\n",
      "\n"
     ]
    },
    {
     "cell_type": "markdown",
     "metadata": {
      "slideshow": {
       "slide_type": "subslide"
      }
     },
     "source": [
      "Question: \n",
      "$$\\DeclareMathOperator*{\\argmax}{arg\\,max} \\argmax\\limits_{\\mathbf{\\theta}}\\ P_{\\theta}(Q_{1}, \\dots, Q_{n})$$\n",
      "\n",
      "Answer: Expectation-Maximization (EM) algorithm \n",
      "\n",
      "...or even better: Variational EM."
     ]
    },
    {
     "cell_type": "markdown",
     "metadata": {
      "slideshow": {
       "slide_type": "subslide"
      }
     },
     "source": [
      "<h1 align=\"center\">Prob. Abduction (6)</h1>\n",
      "\n",
      "Other probabilistic-logical formalisms\n",
      "\n",
      "* ProbLog (I & II)\n",
      "* PRiSM\n",
      "* LPADs\n",
      "* Markov logic\n",
      "* BLOG\n",
      "* many others"
     ]
    },
    {
     "cell_type": "markdown",
     "metadata": {
      "slideshow": {
       "slide_type": "slide"
      }
     },
     "source": [
      "<h1 align=\"center\"> Demo </h1>\n",
      "\n",
      "<h3 align=\"center\">\"One\" line music recommender system!</h3>"
     ]
    },
    {
     "cell_type": "markdown",
     "metadata": {
      "slideshow": {
       "slide_type": "slide"
      }
     },
     "source": [
      "<center><img src=\"files/pix/norvig_lincoln_last_slide.gif\" ></center>"
     ]
    },
    {
     "cell_type": "markdown",
     "metadata": {
      "slideshow": {
       "slide_type": "subslide"
      }
     },
     "source": [
      "<h1 align=\"center\">Conclusions</h1>\n",
      "\n",
      "<h3>Done</h3>\n",
      "\n",
      "* probabilistic-logical inference + constraints\n",
      "* parameter learning (EM done, V-EM almost done)\n",
      "* application in a biological gene network model\n",
      "* hopefully interesting demo\n",
      "\n",
      "\n",
      "\n"
     ]
    },
    {
     "cell_type": "markdown",
     "metadata": {
      "slideshow": {
       "slide_type": "subslide"
      }
     },
     "source": [
      "<h1 align=\"center\">Conclusions (2)</h1>\n",
      "<h3>To Do</h3>\n",
      "\n",
      "* more applications, benchmarks\n",
      "* scale inference and learning\n",
      "* parameter learning demo\n",
      "* better parameter learning methods\n",
      "* structure learning\n"
     ]
    },
    {
     "cell_type": "markdown",
     "metadata": {
      "slideshow": {
       "slide_type": "subslide"
      }
     },
     "source": [
      "<h1 align=\"center\">Thank you!</h1>\n",
      "\n",
      "<h3 align=\"center\"> Slides on github. </h3>\n",
      "\n",
      "<center><img src=\"files/pix/qrcode.png\" ></center>"
     ]
    }
   ],
   "metadata": {}
  }
 ]
}